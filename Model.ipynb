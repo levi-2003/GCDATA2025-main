{
  "cells": [
    {
      "cell_type": "markdown",
      "metadata": {},
      "source": [
        "# Model Pipeline"
      ]
    },
    {
      "cell_type": "markdown",
      "metadata": {},
      "source": [
        "## Imports"
      ]
    },
    {
      "cell_type": "code",
      "execution_count": 2,
      "metadata": {
        "id": "RQVcFVV8B69W"
      },
      "outputs": [],
      "source": [
        "import pandas as pd\n",
        "import numpy as np\n",
        "import matplotlib.pyplot as plt\n",
        "import seaborn as sns\n",
        "from scipy.optimize import curve_fit,minimize\n",
        "from scipy import stats\n",
        "from sklearn.metrics import r2_score, mean_squared_error, mean_absolute_error\n",
        "import warnings\n",
        "import json \n",
        "import os\n",
        "\n",
        "warnings.filterwarnings('ignore')\n",
        "sns.set_palette('Blues_r')"
      ]
    },
    {
      "cell_type": "markdown",
      "metadata": {},
      "source": [
        "## Load Datasets"
      ]
    },
    {
      "cell_type": "code",
      "execution_count": 3,
      "metadata": {
        "colab": {
          "base_uri": "https://localhost:8080/"
        },
        "id": "dcAws8DnB69X",
        "outputId": "ba31f145-616a-49c6-d3c1-a010e769ce43"
      },
      "outputs": [],
      "source": [
        "daily_data = pd.read_csv('./Data/daily_data.csv')\n",
        "daily_data.drop('Unnamed: 0', axis = 1,inplace=True)\n",
        "monthly_data = pd.read_csv('./Data/monthly_dataset.csv')"
      ]
    },
    {
      "cell_type": "markdown",
      "metadata": {},
      "source": [
        "## Apply MMM Model"
      ]
    },
    {
      "cell_type": "markdown",
      "metadata": {},
      "source": [
        "### Functions"
      ]
    },
    {
      "cell_type": "code",
      "execution_count": 4,
      "metadata": {
        "id": "R4_-NFQYB69d"
      },
      "outputs": [],
      "source": [
        "# Michaelis-Menten model\n",
        "def mmequation(X,*alphas):\n",
        "    n_features = X.shape[1]\n",
        "    result = np.zeros(X.shape[0])\n",
        "    # Sum contributions from all features\n",
        "    for i in range(n_features):\n",
        "        feature_values = X[:, i]\n",
        "        result += (alphas[i] * feature_values)/(1 + feature_values)\n",
        "    return result\n"
      ]
    },
    {
      "cell_type": "code",
      "execution_count": 5,
      "metadata": {},
      "outputs": [],
      "source": [
        "# Train the model\n",
        "def fit_to_data(x_data, y_data,iter = 1000000,components=None):\n",
        "    if components is None:\n",
        "        components = x_data.shape[1]\n",
        "    if x_data.ndim == 1:\n",
        "        x_data = x_data.reshape(-1, 1)\n",
        "\n",
        "    # Initial parameter guess\n",
        "    initial_guess = ([1] * (components))\n",
        "\n",
        "    # Set bounds: all parameters must be positive\n",
        "    bounds_lower = [0] * (components)\n",
        "    bounds_upper = [np.inf] * (components)\n",
        "\n",
        "    # Fit the model\n",
        "    alphas,_ = curve_fit(\n",
        "        mmequation,\n",
        "        x_data,\n",
        "        y_data,\n",
        "        p0=initial_guess,\n",
        "        bounds=(bounds_lower, bounds_upper),\n",
        "        maxfev=iter\n",
        "    )\n",
        "    \n",
        "    return alphas"
      ]
    },
    {
      "cell_type": "code",
      "execution_count": 6,
      "metadata": {},
      "outputs": [],
      "source": [
        "# Visualization function to see the fit\n",
        "def plot_model_fit(x_data, y_data, alphas):\n",
        "    y_pred = mmequation(x_data, *alphas)\n",
        "\n",
        "    plt.figure(figsize=(10, 6))\n",
        "    plt.scatter(range(len(y_data)), y_data, color='blue', label='Actual')\n",
        "    plt.scatter(range(len(y_pred)), y_pred, color='red', label='Predicted')\n",
        "    plt.legend()\n",
        "    plt.title('Michaelis-Menten Model Fit')\n",
        "    plt.xlabel('Data Point Index')\n",
        "    plt.ylabel('Value')\n",
        "    plt.grid(True, linestyle='--', alpha=0.7)\n",
        "    plt.show()\n",
        "\n",
        "    n_features = x_data.shape[1]\n",
        "    plt.figure(figsize=(12, 5))\n",
        "    plt.subplot(1, 2, 1)\n",
        "    plt.bar(range(n_features), alphas)\n",
        "    plt.title('Values (Saturation Levels)')\n",
        "    plt.xlabel('Feature Index')\n",
        "    plt.tight_layout()\n",
        "    plt.show()"
      ]
    },
    {
      "cell_type": "code",
      "execution_count": 7,
      "metadata": {
        "id": "YHF66L2nB69d"
      },
      "outputs": [],
      "source": [
        "# Check the accuracy of the model\n",
        "def validate_model_parameters(x_data, y_data, alphas):\n",
        "    y_pred = mmequation(x_data, *alphas)\n",
        "    r2 = r2_score(y_data, y_pred)\n",
        "    residuals = y_data - y_pred\n",
        "\n",
        "    validation_results = {\n",
        "        'r2': r2,\n",
        "        'residuals': residuals,\n",
        "        'predictions': y_pred\n",
        "    }\n",
        "    \n",
        "    return validation_results"
      ]
    },
    {
      "cell_type": "code",
      "execution_count": 8,
      "metadata": {
        "colab": {
          "base_uri": "https://localhost:8080/",
          "height": 1000
        },
        "id": "5GGkd8N9B69e",
        "outputId": "2c29bbe2-5ec4-46e5-cca1-708c3aef6907"
      },
      "outputs": [],
      "source": [
        "# Defines the Linear Programming Problem\n",
        "def objective_function(x, a):\n",
        "    return -np.sum(((a * x)/(1 + x)))\n",
        "\n",
        "def constraint_sum_to_one(x):\n",
        "    return np.sum(x) - (monthly_data['gmv'].values[-1]/1e7)\n",
        "\n",
        "def optimize_log_sum_with_constraint(a, x0=None):\n",
        "    \"\"\"\n",
        "    Find x_i values that maximize Σ a_i log(x_i) subject to:\n",
        "    - 0 ≤ x_i ≤ k for all i\n",
        "    - Σ x_i = l\n",
        "    \"\"\"\n",
        "    n = len(a)\n",
        "\n",
        "    # Set initial feasible values if not provided\n",
        "    if x0 is None:\n",
        "        x0 = np.ones(n) / n\n",
        "\n",
        "    # Define bounds: 0 ≤ x_i ≤ k for all i\n",
        "    bounds = [(0, a[i]/1e7) for i in range(n)]\n",
        "\n",
        "    # Define the sum constraint: Σ x_i = l\n",
        "    constraint = {\n",
        "        'type': 'eq',\n",
        "        'fun': constraint_sum_to_one\n",
        "    }\n",
        "\n",
        "    # Perform the optimization\n",
        "    result = minimize(\n",
        "        objective_function,\n",
        "        x0,\n",
        "        args=(a,),\n",
        "        bounds=bounds,\n",
        "        constraints=[constraint],\n",
        "        method='SLSQP'\n",
        "    )\n",
        "\n",
        "    return result"
      ]
    },
    {
      "cell_type": "code",
      "execution_count": 9,
      "metadata": {},
      "outputs": [],
      "source": [
        "# Visualize the relationship between coefficients and optimal values\n",
        "def visualize_results(a, x_optimal):\n",
        "    plt.figure(figsize=(10, 6))\n",
        "    indices = np.arange(len(a))\n",
        "\n",
        "    plt.subplot(2, 1, 1)\n",
        "    plt.bar(indices, a , color='skyblue')\n",
        "    plt.axhline(y=0, color='r', linestyle='-', alpha=0.3)\n",
        "    plt.title('Coefficients (a_i)')\n",
        "    plt.grid(axis='y', linestyle='--', alpha=0.7)\n",
        "\n",
        "    plt.subplot(2, 1, 2)\n",
        "    plt.bar(indices, x_optimal, color='lightgreen')\n",
        "    plt.title('Optimal Allocation (x_i)')\n",
        "    plt.grid(axis='y', linestyle='--', alpha=0.7)\n",
        "\n",
        "    plt.tight_layout()\n",
        "    plt.show()"
      ]
    },
    {
      "cell_type": "code",
      "execution_count": 10,
      "metadata": {
        "id": "I-oxkrfrB69Z"
      },
      "outputs": [],
      "source": [
        "def MMModel(product,target = 'gmv',debug=False):\n",
        "   # Creates a monthly dataset for the product category\n",
        "   data = daily_data[daily_data['product_analytic_category'] == product]\n",
        "   data.drop(['fsn_id','product_analytic_category','order_id','order_item_id','cust_id','Occassion'],axis=1,inplace=True)\n",
        "\n",
        "   data['order_date'] = pd.DatetimeIndex(data['order_date'])\n",
        "   df = data.resample('M',on='order_date')[['gmv', 'units']].sum()\n",
        "   monthly = monthly_data.set_index('Unnamed: 0')\n",
        "   monthly.index = pd.DatetimeIndex(df.index)\n",
        "   \n",
        "   df = pd.concat([df,monthly[['Total Investment', 'TV',\n",
        "      'Digital', 'Sponsorship', 'Content Marketing', 'Online marketing',\n",
        "      ' Affiliates', 'SEM', 'Radio', 'Other']]],axis=1)\n",
        "   df['Others'] = df['Other'] + df['Radio'] + df['SEM']\n",
        "   df.drop(['SEM', 'Radio', 'Other'],axis=1,inplace=True)\n",
        "\n",
        "   filtered = df[[target,'TV', 'Digital','Sponsorship', 'Content Marketing', 'Online marketing', ' Affiliates', 'Others']]\n",
        "   \n",
        "   model_params = fit_to_data(filtered.drop(target,axis=1).values,df[target].values,components=filtered.shape[1] -1)\n",
        "   val =  validate_model_parameters(filtered.drop(target,axis=1).values,df[target].values, model_params)\n",
        "   \n",
        "   if debug:\n",
        "      print(\"Parameters (saturation levels):\")\n",
        "      for i, alpha in enumerate(model_params):\n",
        "            print(f\"Coefficent of {filtered.columns[i+1]}: {alpha:.4f}\")\n",
        "            print(\"=\"*60)\n",
        "\n",
        "      plot_model_fit(filtered.drop(target,axis=1).values,df[target].values, model_params)\n",
        "\n",
        "      print(f\"R2 obtained is: {val['r2']}\")\n",
        "      print(f\"Sum of coefficients: {np.sum(model_params)}\")\n",
        "      print(\"=\"*60)\n",
        "\n",
        "      result = optimize_log_sum_with_constraint(model_params)\n",
        "      print(\"\\nOptimization Results:\")\n",
        "      print(\"Success:\", result.success)\n",
        "      print(\"Message:\", result.message)\n",
        "      print(\"Optimal x values:\", result.x)\n",
        "      print(\"Sum of x values:\", np.sum(result.x))\n",
        "      print(\"\\nDetailed breakdown:\")\n",
        "      for i, (coef, value) in enumerate(zip(a, result.x)):\n",
        "         contribution = coef * np.log(max(value, 1e-10))\n",
        "         print(f\"{filtered.columns[i+1]}: {value:.6f} (coef={coef:+.2f}, contribution={contribution:.6f})\")\n",
        "    \n",
        "   return model_params,val['r2']"
      ]
    },
    {
      "cell_type": "markdown",
      "metadata": {},
      "source": [
        "### Calculation"
      ]
    },
    {
      "cell_type": "code",
      "execution_count": 11,
      "metadata": {
        "id": "-xRkh2S0Sq5M"
      },
      "outputs": [],
      "source": [
        "final_g = []\n",
        "final_u = []\n",
        "r2_g = []\n",
        "r2_u = []\n",
        "\n",
        "for p in daily_data['product_analytic_category'].unique():\n",
        "    model_params,r2 = MMModel(p,'gmv')\n",
        "    final_g.append(model_params)\n",
        "    r2_g.append(r2)\n",
        "    \n",
        "for p in daily_data['product_analytic_category'].unique():\n",
        "    model_params,r2 = MMModel(p,'units')\n",
        "    final_u.append(model_params)\n",
        "    r2_u.append(r2)\n",
        "\n",
        "a = [p for p in daily_data['product_analytic_category'].unique()]\n",
        "weights_u = dict(zip(a, final_u))\n",
        "weights_g = dict(zip(a, final_g))"
      ]
    },
    {
      "cell_type": "code",
      "execution_count": 12,
      "metadata": {},
      "outputs": [
        {
          "data": {
            "image/png": "[encoded data removed]",
            "text/plain": [
              "<Figure size 640x480 with 1 Axes>"
            ]
          },
          "metadata": {},
          "output_type": "display_data"
        }
      ],
      "source": [
        "sns.barplot(x = daily_data['product_analytic_category'].unique() , y = r2_g)\n",
        "plt.ylabel('R2 Score')\n",
        "plt.xticks(rotation=30)\n",
        "plt.title('Productwise R2')\n",
        "plt.show()"
      ]
    },
    {
      "cell_type": "markdown",
      "metadata": {},
      "source": [
        "## Final Optimization\n",
        "    incorporating SDPI and product weights"
      ]
    },
    {
      "cell_type": "code",
      "execution_count": 13,
      "metadata": {},
      "outputs": [],
      "source": [
        "# SDPI goes here and so does the product weights"
      ]
    },
    {
      "cell_type": "code",
      "execution_count": 14,
      "metadata": {},
      "outputs": [],
      "source": [
        "#product weights\n",
        "cat_gmv = []\n",
        "cat_units = []\n",
        "\n",
        "for cat in a:\n",
        "    cat_gmv.append(daily_data[daily_data['product_analytic_category'] == cat]['gmv'].sum())\n",
        "    cat_units.append(daily_data[daily_data['product_analytic_category'] == cat]['units'].sum())\n",
        "\n",
        "sum_gmv = [5*x/sum(cat_gmv) for x in cat_gmv]\n",
        "sum_units = [5*x/sum(cat_units) for x in cat_units]\n",
        "prod_weights_g = {}\n",
        "prod_weights_u= {}\n",
        "for count, cat in enumerate(a):\n",
        "    prod_weights_g[cat] = sum_gmv[count]\n",
        "    prod_weights_u[cat] = sum_units[count]"
      ]
    },
    {
      "cell_type": "code",
      "execution_count": 15,
      "metadata": {},
      "outputs": [],
      "source": [
        "# --- New Objective Function ---\n",
        "def objective_function(x, A):\n",
        "    total = 0.0\n",
        "    for i in range(len(x)):\n",
        "        total += A[i]*x[i] / (1 + x[i])\n",
        "    return -total\n",
        "\n",
        "def constraint_sum_to_one(x):\n",
        "    return np.sum(x) - monthly_data['gmv'].values[-1]/1e6\n",
        "\n",
        "def optimize_allocation(A, x0=None,iter = 1000000):\n",
        "    n = len(A)\n",
        "    if x0 is None:\n",
        "        x0 = np.ones(n) / n \n",
        "\n",
        "    bounds = [(0, A[i]/1e7) for i in range(n)]\n",
        "\n",
        "    result = minimize(objective_function,x0,args=(A,),bounds=bounds,method='SLSQP',options={'maxiter': iter})\n",
        "    return result\n",
        "#"
      ]
    },
    {
      "cell_type": "code",
      "execution_count": 16,
      "metadata": {},
      "outputs": [],
      "source": [
        "# --- Visualization Function ---\n",
        "def visualize_results(A, x_optimal):\n",
        "    indices = np.arange(1, len(A)+1)\n",
        "    plt.figure(figsize=(10, 8))\n",
        "\n",
        "    plt.subplot(2, 1, 1)\n",
        "    plt.bar(indices, A, color='skyblue')\n",
        "    plt.title('Aggregated Coefficients (A)')\n",
        "    plt.xlabel('Channel Index')\n",
        "    plt.ylabel('Aggregated Alpha')\n",
        "    plt.grid(axis='y', linestyle='--', alpha=0.7)\n",
        "\n",
        "    plt.subplot(2, 1, 2)\n",
        "    plt.bar(indices, x_optimal, color='lightgreen')\n",
        "    plt.title('Optimal Allocation (x)')\n",
        "    plt.xlabel('Channel Index')\n",
        "    plt.ylabel('Allocation')\n",
        "    plt.grid(axis='y', linestyle='--', alpha=0.7)\n",
        "\n",
        "    plt.tight_layout()\n",
        "    plt.show()\n"
      ]
    },
    {
      "cell_type": "code",
      "execution_count": 17,
      "metadata": {},
      "outputs": [
        {
          "name": "stdout",
          "output_type": "stream",
          "text": [
            "\n",
            "Final Optimization Results:\n",
            "Success: True\n",
            "Message: Optimization terminated successfully\n",
            "Optimal x values: [6.99185180e-01 3.75683973e+00 4.81115913e-02 7.35501986e+00\n",
            " 9.51611074e+00 6.30292419e+00 1.57483853e-06]\n",
            "Sum of x values: 27.678192862585373\n",
            "Maximum value of the function: 23.782741313135237\n",
            "\n",
            "Detailed breakdown:\n",
            "x_1: 0.699185 (Aggregated Coefficient A_1 = 6.99e+06)\n",
            "x_2: 3.756840 (Aggregated Coefficient A_2 = 3.76e+07)\n",
            "x_3: 0.048112 (Aggregated Coefficient A_3 = 4.81e+05)\n",
            "x_4: 7.355020 (Aggregated Coefficient A_4 = 7.36e+07)\n",
            "x_5: 9.516111 (Aggregated Coefficient A_5 = 9.52e+07)\n",
            "x_6: 6.302924 (Aggregated Coefficient A_6 = 6.30e+07)\n",
            "x_7: 0.000002 (Aggregated Coefficient A_7 = 1.57e+01)\n"
          ]
        },
        {
          "data": {
            "image/png": "[encoded data removed]",
            "text/plain": [
              "<Figure size 1000x800 with 2 Axes>"
            ]
          },
          "metadata": {},
          "output_type": "display_data"
        }
      ],
      "source": [
        "# --- Given Alphas for 5 Categories (each with 7 channels) ---\n",
        "Camera_alphas = final_g[-1]\n",
        "GamingHardware_alphas = final_g[1]\n",
        "GameCDDVD_alphas = final_g[-2]\n",
        "EntertainmentSmall_alphas = final_g[2]\n",
        "CameraAccessory_alphas = final_g[0]\n",
        "\n",
        "# --- Aggregate Alphas Across the 5 Channels ---\n",
        "# For each channel index (0 to 6), add the corresponding values from each category.\n",
        "\n",
        "aggregated_alphas = (GamingHardware_alphas +\n",
        "                     GameCDDVD_alphas +\n",
        "                     EntertainmentSmall_alphas +\n",
        "                     CameraAccessory_alphas)\n",
        "\n",
        "result_final = optimize_allocation(aggregated_alphas)\n",
        "\n",
        "# --- Display the Results ---\n",
        "print(\"\\nFinal Optimization Results:\")\n",
        "print(\"Success:\", result_final.success)\n",
        "print(\"Message:\", result_final.message)\n",
        "print(\"Optimal x values:\", result_final.x)\n",
        "print(\"Sum of x values:\", np.sum(result_final.x))\n",
        "print(\"Maximum value of the function:\", -result_final.fun/1e7)\n",
        "\n",
        "# --- Detailed Breakdown ---\n",
        "print(\"\\nDetailed breakdown:\")\n",
        "for i, (A_val, x_val) in enumerate(zip(aggregated_alphas, result_final.x)):\n",
        "    print(f\"x_{i+1}: {x_val:.6f} (Aggregated Coefficient A_{i+1} = {A_val:.2e})\")\n",
        "\n",
        "# --- Visualize the Results ---\n",
        "try:\n",
        "    visualize_results(aggregated_alphas, result_final.x)\n",
        "except Exception as e:\n",
        "    print(\"\\nVisualization failed:\", e)"
      ]
    },
    {
      "cell_type": "markdown",
      "metadata": {},
      "source": [
        "## Export to JSON"
      ]
    },
    {
      "cell_type": "code",
      "execution_count": 19,
      "metadata": {},
      "outputs": [
        {
          "name": "stdout",
          "output_type": "stream",
          "text": [
            "JSON file saved to: ./electromart-dashboard copy/electromart-dashboard copy/src/components/src/budget_optimization.json\n"
          ]
        }
      ],
      "source": [
        "answer = result_final.x\n",
        "###########\n",
        "file_path = \"./electromart-dashboard copy/electromart-dashboard copy/src/components/src/budget_optimization.json\"\n",
        "json_result = daily_data.to_json(orient='records')\n",
        "category_revenue = json.dumps(json.loads(json_result), indent=2)\n",
        "with open(file_path, 'w') as f:\n",
        "    json.dump(json.loads(json_result), f, indent=2)\n",
        "\n",
        "print(f\"JSON file saved to: {file_path}\")"
      ]
    }
  ],
  "metadata": {
    "colab": {
      "provenance": []
    },
    "kernelspec": {
      "display_name": "Python 3",
      "language": "python",
      "name": "python3"
    },
    "language_info": {
      "codemirror_mode": {
        "name": "ipython",
        "version": 3
      },
      "file_extension": ".py",
      "mimetype": "text/x-python",
      "name": "python",
      "nbconvert_exporter": "python",
      "pygments_lexer": "ipython3",
      "version": "3.10.6"
    }
  },
  "nbformat": 4,
  "nbformat_minor": 0
}
